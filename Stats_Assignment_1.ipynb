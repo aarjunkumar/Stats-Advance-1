{
  "nbformat": 4,
  "nbformat_minor": 0,
  "metadata": {
    "colab": {
      "provenance": []
    },
    "kernelspec": {
      "name": "python3",
      "display_name": "Python 3"
    },
    "language_info": {
      "name": "python"
    }
  },
  "cells": [
    {
      "cell_type": "markdown",
      "source": [
        "Q1. Explain the properties of the F-distribution.\n",
        "\n",
        "Sol. The properties of F-distribution are:-\n",
        "\n",
        "1. The curve is not symmetrical but skewed to the right. There is a different curve for each set of dfs. The F statistic is greater than or equal to zero. As the degrees of freedom for the numerator and for the denominator get larger, the curve approximates the normal.\n",
        "\n",
        "2. The F-distribution is defined only for non-negative values, F≥0, because it is based on the ratio of variances.\n",
        "\n",
        "3. The F-distribution is not symmetric; it has a longer right tail. This property makes it useful for hypothesis testing where the focus is on detecting larger-than-expected ratios.\n",
        "\n"
      ],
      "metadata": {
        "id": "qIt5sdY6MRJJ"
      }
    },
    {
      "cell_type": "markdown",
      "source": [
        "\n",
        "\n",
        "---\n",
        "\n",
        "\n",
        "\n",
        "---\n",
        "\n"
      ],
      "metadata": {
        "id": "YaJOSc_tNl8P"
      }
    },
    {
      "cell_type": "markdown",
      "source": [
        "Q2. In which types of statistical tests is the F-distribution used, and why is it appropriate for these tests?\n",
        "\n",
        "Sol. An F-test is any statistical test used to compare the variances of two samples or the ratio of variances between multiple samples.\n",
        "\n",
        "The F-distribution is used in statistical tests such as the F-test, analysis of variance (ANOVA).\n",
        "\n",
        "Analysis of Variance(ANOVA) Test:-\n",
        "\n",
        "ANOVA is a statistical method used to compare the means of two or more groups by  analysing the variance of the groups.\n",
        "\n",
        "Why F-distribution is appropriate for these tests:-\n",
        "\n",
        "1. The F-statistic in ANOVA is the ratio of the variance between group means (signal) to the variance within groups (noise).\n",
        "\n",
        "2. Under the null hypothesis (no difference in group means), this ratio follows the F-distribution because it is a ratio of two independent variance estimates."
      ],
      "metadata": {
        "id": "5qz-lNkFNnN9"
      }
    },
    {
      "cell_type": "markdown",
      "source": [
        "\n",
        "\n",
        "---\n",
        "\n",
        "\n",
        "\n",
        "---\n",
        "\n"
      ],
      "metadata": {
        "id": "BbJX0G15PvLs"
      }
    },
    {
      "cell_type": "markdown",
      "source": [
        "Q3. What are the key assumptions required for conducting an F-test to compare the variances of two populations?\n",
        "\n",
        "Sol. The key assumptions are:-\n",
        "\n",
        "1. the population from which samples are drawn should be normally distributes.\n",
        "\n",
        "2. The sample should be independent of each other.\n",
        "\n",
        "3. The sample should be random.\n",
        "\n",
        "4. There should be absence of outliers."
      ],
      "metadata": {
        "id": "3hRrGZECPwWT"
      }
    },
    {
      "cell_type": "markdown",
      "source": [
        "\n",
        "\n",
        "---\n",
        "\n",
        "\n",
        "\n",
        "---\n",
        "\n"
      ],
      "metadata": {
        "id": "gl820Dz6RFaG"
      }
    },
    {
      "cell_type": "markdown",
      "source": [
        "Q4. What is the purpose of ANOVA, and how does it differ from a t-test?\n",
        "\n",
        "Sol. Analysis of variance (ANOVA) is a statistical technique used to check if the means of two or more groups are significantly different by analyzing comparisons of variance estimates. ANOVA checks the impact of one or\n",
        "more factors by comparing the means of different samples.\n",
        "\n",
        "The t-test and ANOVA give the same results when we have only two samples. However, using a t-test would not be reliable in cases where there are more than 2 samples. If we conduct multiple t-tests for comparing more  \n",
        "than two samples, it will compound the type 1 error.\n",
        "\n",
        "So we can ay that ANOVA is appropriate to compare mean of more than two groups while t-test is used to compare the mean of two groups only."
      ],
      "metadata": {
        "id": "QGFaMdptRGxJ"
      }
    },
    {
      "cell_type": "markdown",
      "source": [
        "\n",
        "\n",
        "---\n",
        "\n",
        "\n",
        "\n",
        "---\n",
        "\n"
      ],
      "metadata": {
        "id": "KygjYyj7SqCh"
      }
    },
    {
      "cell_type": "markdown",
      "source": [
        "Q5. Explain when and why you would use a one-way ANOVA instead of multiple t-tests when comparing more than two groups.\n",
        "\n",
        "Sol. The t-test and ANOVA give the same results when we have only two samples. However, using a t-test would not be reliable in cases where there are more than 2 samples. If we conduct multiple t-tests for comparing more  \n",
        "than two samples, it will compound the type 1 error.\n",
        "\n",
        "Conducting multiple t-tests is computationally more intensive and less efficient than a single ANOVA."
      ],
      "metadata": {
        "id": "vavsQsgdSrmu"
      }
    },
    {
      "cell_type": "markdown",
      "source": [
        "\n",
        "\n",
        "---\n",
        "\n",
        "\n",
        "\n",
        "---\n",
        "\n"
      ],
      "metadata": {
        "id": "Re1eEk7ITduq"
      }
    },
    {
      "cell_type": "markdown",
      "source": [
        "Q6. Explain how variance is partitioned in ANOVA into between-group variance and within-group variance. How does this partitioning contribute to the calculation of the F-statistic?\n",
        "\n",
        "Sol. Between-Group Variance (Explained Variance):-\n",
        "\n",
        "1. Measures the variability between the group means.\n",
        "\n",
        "2. Reflects how much the group means deviate from the overall mean.\n",
        "\n",
        "3. Captures the effect of the independent variable (if any) on the dependent variable.\n",
        "\n",
        "\n",
        "Within-Group Variance (Unexplained Variance):-\n",
        "\n",
        "1. Measures the variability within each group.\n",
        "\n",
        "2. Reflects random error or individual differences within groups.\n",
        "\n",
        "3. This is considered noise that ANOVA seeks to control for.\n"
      ],
      "metadata": {
        "id": "O20wcMjHTes7"
      }
    },
    {
      "cell_type": "markdown",
      "source": [
        "\n",
        "\n",
        "---\n",
        "\n",
        "\n",
        "\n",
        "---\n",
        "\n"
      ],
      "metadata": {
        "id": "kDfysDr1VAhd"
      }
    },
    {
      "cell_type": "markdown",
      "source": [
        "Q7. Compare the classical (frequentist) approach to ANOVA with the Bayesian approach. What are the key\n",
        "differences in terms of how they handle uncertainty, parameter estimation, and hypothesis testing?\n",
        "\n",
        "Sol. The key differences are:-\n",
        "\n",
        "1. Uncertainty:-\n",
        "\n",
        "    Frequentists assume probabilities are objective and fixed, while Bayesians embrace subjectivity and the idea that probabilities change based on new information.\n",
        "\n",
        "2. Parameter estimation:-\n",
        "\n",
        "    Frequentists use point estimates of unknown parameters to predict new data points, while Bayesians use a full posterior distribution over the possible parameter values\n",
        "\n",
        "3. Hypothesis testing:-\n",
        "\n",
        "    Frequentists assign probabilities to data, not to hypotheses, while Bayesians assign probabilities to hypotheses\n",
        "\n",
        "4. Prior knowledge:-\n",
        "\n",
        "    Bayesian models incorporate prior knowledge into the analysis, updating hypotheses probabilities as more data become available.\n",
        "\n",
        "5. Data reliance:-\n",
        "\n",
        "    Frequentist methods rely solely on data, while Bayesian inference combines prior beliefs and data."
      ],
      "metadata": {
        "id": "Kyatp34dtKZJ"
      }
    },
    {
      "cell_type": "markdown",
      "source": [
        "\n",
        "\n",
        "---\n",
        "\n",
        "\n",
        "\n",
        "---\n",
        "\n"
      ],
      "metadata": {
        "id": "Wa1hoenHtK1e"
      }
    },
    {
      "cell_type": "markdown",
      "source": [
        "Q8.  You have two sets of data representing the incomes of two different professions\n",
        "\n",
        " Profession A: [48, 52, 55, 60, 62]\n",
        "\n",
        " Profession B: [45, 50, 55, 52, 47]\n",
        "\n",
        " Perform an F-test to determine if the variances of the two professions'\n",
        " incomes are equal. What are your conclusions based on the F-test?\n",
        "\n",
        " Task: Use Python to calculate the F-statistic and p-value for the given data.\n",
        "\n",
        " Objective: Gain experience in performing F-tests and interpreting the results in terms of variance comparison."
      ],
      "metadata": {
        "id": "8s0yhNtpVBZ_"
      }
    },
    {
      "cell_type": "code",
      "source": [
        "import numpy as np\n",
        "import scipy.stats as stats\n",
        "\n",
        "Null_Hypothesis=\" The variances of the two professions incomes are equal.\"\n",
        "Alternative_Hypothesis= \"The variances of the two professions incomes are not equal\"\n",
        "\n",
        "Profession_A=[48, 52, 55, 60, 62]\n",
        "Profession_B=[45, 50, 55, 52, 47]\n",
        "\n",
        "ftest=np.var(Profession_A)/np.var(Profession_B)\n",
        "\n",
        "df1=len(Profession_A)-1\n",
        "df2=len(Profession_B)-1\n",
        "\n",
        "c_value=stats.f.ppf(q=1-0.05,dfn=df1,dfd=df2)\n",
        "\n",
        "p=2*(1-stats.f.cdf(ftest,df1,df2))\n",
        "\n",
        "print(\"f-stats :\",ftest)\n",
        "print(\"Degree of freedom 1 :\",df1)\n",
        "print(\"Degree of freedom 2 :\",df2)\n",
        "print(\"f-critical :\",c_value)\n",
        "print(\"p_value :\",p)\n",
        "\n",
        "if ftest>c_value:\n",
        "    print(\"\\nReject the null hypotheis. The variances of the two professions incomes are not equal.\")\n",
        "else:\n",
        "    print(\"\\nFail to reject null hypothesis. The variances of the two professions incomes are equal.\")"
      ],
      "metadata": {
        "colab": {
          "base_uri": "https://localhost:8080/"
        },
        "id": "nMnE45YKsEch",
        "outputId": "de3c681c-7611-4bff-865f-271b15f20de9"
      },
      "execution_count": 1,
      "outputs": [
        {
          "output_type": "stream",
          "name": "stdout",
          "text": [
            "f-stats : 2.089171974522293\n",
            "Degree of freedom 1 : 4\n",
            "Degree of freedom 2 : 4\n",
            "f-critical : 6.388232908695868\n",
            "p_value : 0.49304859900533904\n",
            "\n",
            "Fail to reject null hypothesis. The variances of the two professions incomes are equal.\n"
          ]
        }
      ]
    },
    {
      "cell_type": "markdown",
      "source": [
        "\n",
        "\n",
        "---\n",
        "\n",
        "\n",
        "\n",
        "---\n",
        "\n"
      ],
      "metadata": {
        "id": "-UqvauuQsU6E"
      }
    },
    {
      "cell_type": "markdown",
      "source": [
        "Q9. Conduct a one-way ANOVA to test whether there are any statistically significant differences in\n",
        "average heights between three different regions with the following data\n",
        "\n",
        " Region A: [160, 162, 165, 158, 164]\n",
        "\n",
        "\n",
        " Region B: [172, 175, 170, 168, 174]\n",
        "\n",
        " Region C: [180, 182, 179, 185, 183]\n",
        "\n",
        " Task: Write Python code to perform the one-way ANOVA and interpret the results\n",
        "\n",
        " Objective: Learn how to perform one-way ANOVA using Python and interpret F-statistic and p-value."
      ],
      "metadata": {
        "id": "WTs4n4J6sV5K"
      }
    },
    {
      "cell_type": "code",
      "source": [
        "import numpy as np\n",
        "import scipy.stats as stats\n",
        "\n",
        "Null_Hypothesis=\"There are no statistically significant differences in average heights between three different regions.\"\n",
        "Alternative_Hypothesis= \"There are statistically significant differences in average heights between three different regions.\"\n",
        "\n",
        "Region_A = [160, 162, 165, 158, 164]\n",
        "Region_B = [172, 175, 170, 168, 174]\n",
        "Region_C = [180, 182, 179, 185, 183]\n",
        "\n",
        "ftest,p_value=stats.f_oneway(Region_A,Region_B,Region_C)\n",
        "\n",
        "print(\"f-stats :\",ftest)\n",
        "print(\"p_value :\",p_value)\n",
        "\n",
        "if p_value<0.05:\n",
        "    print(\"\\nReject the null hypotheis. There are statistically significant differences in average heights between three different regions.\")\n",
        "else:\n",
        "    print(\"\\nFail to reject null hypothesis. There are no statistically significant differences in average heights between three different regions.\")"
      ],
      "metadata": {
        "colab": {
          "base_uri": "https://localhost:8080/"
        },
        "id": "M6dP_uUMsSQB",
        "outputId": "6cb894d7-d9c8-48a6-f573-94b343c9b6ca"
      },
      "execution_count": 2,
      "outputs": [
        {
          "output_type": "stream",
          "name": "stdout",
          "text": [
            "f-stats : 67.87330316742101\n",
            "p_value : 2.870664187937026e-07\n",
            "\n",
            "Reject the null hypotheis. There are statistically significant differences in average heights between three different regions.\n"
          ]
        }
      ]
    }
  ]
}